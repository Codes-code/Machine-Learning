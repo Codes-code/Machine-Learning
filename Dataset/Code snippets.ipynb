{
 "cells": [
  {
   "cell_type": "markdown",
   "metadata": {},
   "source": [
    "# Decision Tree\n",
    "\n",
    "CART (Classification  and Regression Tree)\n",
    "\n",
    "\n"
   ]
  },
  {
   "cell_type": "markdown",
   "metadata": {},
   "source": [
    "## Training a Decision Tree with Scikit-Learn Library"
   ]
  },
  {
   "cell_type": "code",
   "execution_count": 1,
   "metadata": {
    "collapsed": true
   },
   "outputs": [],
   "source": [
    "import pandas as pd"
   ]
  },
  {
   "cell_type": "code",
   "execution_count": 2,
   "metadata": {
    "collapsed": true
   },
   "outputs": [],
   "source": [
    "from sklearn import tree"
   ]
  },
  {
   "cell_type": "code",
   "execution_count": 3,
   "metadata": {
    "collapsed": true
   },
   "outputs": [],
   "source": [
    "X = [[0, 0], [1, 2]]\n",
    "y = [0, 1]"
   ]
  },
  {
   "cell_type": "code",
   "execution_count": 4,
   "metadata": {
    "collapsed": true
   },
   "outputs": [],
   "source": [
    "clf = tree.DecisionTreeClassifier()"
   ]
  },
  {
   "cell_type": "code",
   "execution_count": 5,
   "metadata": {
    "collapsed": true
   },
   "outputs": [],
   "source": [
    "clf = clf.fit(X, y)"
   ]
  },
  {
   "cell_type": "code",
   "execution_count": 6,
   "metadata": {},
   "outputs": [
    {
     "data": {
      "text/plain": [
       "array([1])"
      ]
     },
     "execution_count": 6,
     "metadata": {},
     "output_type": "execute_result"
    }
   ],
   "source": [
    "clf.predict([[2., 2.]])"
   ]
  },
  {
   "cell_type": "code",
   "execution_count": 7,
   "metadata": {},
   "outputs": [
    {
     "data": {
      "text/plain": [
       "array([[ 0.,  1.]])"
      ]
     },
     "execution_count": 7,
     "metadata": {},
     "output_type": "execute_result"
    }
   ],
   "source": [
    "clf.predict_proba([[2. , 2.]])"
   ]
  },
  {
   "cell_type": "code",
   "execution_count": 8,
   "metadata": {},
   "outputs": [
    {
     "data": {
      "text/plain": [
       "array([1])"
      ]
     },
     "execution_count": 8,
     "metadata": {},
     "output_type": "execute_result"
    }
   ],
   "source": [
    "clf.predict([[0.4, 1.2]])"
   ]
  },
  {
   "cell_type": "code",
   "execution_count": 9,
   "metadata": {},
   "outputs": [
    {
     "data": {
      "text/plain": [
       "array([[ 0.,  1.]])"
      ]
     },
     "execution_count": 9,
     "metadata": {},
     "output_type": "execute_result"
    }
   ],
   "source": [
    "clf.predict_proba([[0.4, 1.2]])"
   ]
  },
  {
   "cell_type": "code",
   "execution_count": 10,
   "metadata": {},
   "outputs": [
    {
     "data": {
      "text/plain": [
       "array([[ 1.,  0.]])"
      ]
     },
     "execution_count": 10,
     "metadata": {},
     "output_type": "execute_result"
    }
   ],
   "source": [
    "clf.predict_proba([[0, 0.2]])"
   ]
  },
  {
   "cell_type": "markdown",
   "metadata": {},
   "source": [
    "`DecisionTreeClassifier` is capable of both binary (where the labels are [-1, 1]) classification and multiclass (where the labels are [0, …, K-1]) classification."
   ]
  },
  {
   "cell_type": "markdown",
   "metadata": {},
   "source": [
    "## Applying to Iris Dataset"
   ]
  },
  {
   "cell_type": "code",
   "execution_count": 11,
   "metadata": {
    "collapsed": true
   },
   "outputs": [],
   "source": [
    "from sklearn.datasets import load_iris\n",
    "from sklearn import tree\n",
    "iris = load_iris()"
   ]
  },
  {
   "cell_type": "code",
   "execution_count": 12,
   "metadata": {},
   "outputs": [
    {
     "data": {
      "text/plain": [
       "array([[ 5.1,  3.5,  1.4,  0.2],\n",
       "       [ 4.9,  3. ,  1.4,  0.2],\n",
       "       [ 4.7,  3.2,  1.3,  0.2],\n",
       "       [ 4.6,  3.1,  1.5,  0.2],\n",
       "       [ 5. ,  3.6,  1.4,  0.2]])"
      ]
     },
     "execution_count": 12,
     "metadata": {},
     "output_type": "execute_result"
    }
   ],
   "source": [
    "iris.data[0:5]"
   ]
  },
  {
   "cell_type": "code",
   "execution_count": 13,
   "metadata": {},
   "outputs": [
    {
     "data": {
      "text/plain": [
       "['sepal length (cm)',\n",
       " 'sepal width (cm)',\n",
       " 'petal length (cm)',\n",
       " 'petal width (cm)']"
      ]
     },
     "execution_count": 13,
     "metadata": {},
     "output_type": "execute_result"
    }
   ],
   "source": [
    "iris.feature_names"
   ]
  },
  {
   "cell_type": "code",
   "execution_count": 14,
   "metadata": {
    "collapsed": true
   },
   "outputs": [],
   "source": [
    "X = iris.data[:, 2:]"
   ]
  },
  {
   "cell_type": "code",
   "execution_count": 15,
   "metadata": {
    "collapsed": true
   },
   "outputs": [],
   "source": [
    "y = iris.target"
   ]
  },
  {
   "cell_type": "code",
   "execution_count": 16,
   "metadata": {},
   "outputs": [
    {
     "data": {
      "text/plain": [
       "array([0, 0, 0, 0, 0, 0, 0, 0, 0, 0, 0, 0, 0, 0, 0, 0, 0, 0, 0, 0, 0, 0, 0,\n",
       "       0, 0, 0, 0, 0, 0, 0, 0, 0, 0, 0, 0, 0, 0, 0, 0, 0, 0, 0, 0, 0, 0, 0,\n",
       "       0, 0, 0, 0, 1, 1, 1, 1, 1, 1, 1, 1, 1, 1, 1, 1, 1, 1, 1, 1, 1, 1, 1,\n",
       "       1, 1, 1, 1, 1, 1, 1, 1, 1, 1, 1, 1, 1, 1, 1, 1, 1, 1, 1, 1, 1, 1, 1,\n",
       "       1, 1, 1, 1, 1, 1, 1, 1, 2, 2, 2, 2, 2, 2, 2, 2, 2, 2, 2, 2, 2, 2, 2,\n",
       "       2, 2, 2, 2, 2, 2, 2, 2, 2, 2, 2, 2, 2, 2, 2, 2, 2, 2, 2, 2, 2, 2, 2,\n",
       "       2, 2, 2, 2, 2, 2, 2, 2, 2, 2, 2, 2])"
      ]
     },
     "execution_count": 16,
     "metadata": {},
     "output_type": "execute_result"
    }
   ],
   "source": [
    "y"
   ]
  },
  {
   "cell_type": "code",
   "execution_count": 17,
   "metadata": {
    "collapsed": true
   },
   "outputs": [],
   "source": [
    "clf = tree.DecisionTreeClassifier(random_state=42)"
   ]
  },
  {
   "cell_type": "code",
   "execution_count": 18,
   "metadata": {
    "collapsed": true
   },
   "outputs": [],
   "source": [
    "clf = clf.fit(X, y)"
   ]
  },
  {
   "cell_type": "code",
   "execution_count": 19,
   "metadata": {
    "collapsed": true
   },
   "outputs": [],
   "source": [
    "from sklearn.tree import export_graphviz"
   ]
  },
  {
   "cell_type": "code",
   "execution_count": 20,
   "metadata": {
    "collapsed": true
   },
   "outputs": [],
   "source": [
    "export_graphviz(clf,\n",
    "                out_file=\"tree.dot\",\n",
    "                feature_names=iris.feature_names[2:],\n",
    "                class_names=iris.target_names,\n",
    "                rounded=True,\n",
    "                filled=True)"
   ]
  },
  {
   "cell_type": "code",
   "execution_count": 21,
   "metadata": {
    "collapsed": true
   },
   "outputs": [],
   "source": [
    "import graphviz"
   ]
  },
  {
   "cell_type": "code",
   "execution_count": 22,
   "metadata": {
    "collapsed": true
   },
   "outputs": [],
   "source": [
    "dot_data = tree.export_graphviz(clf, out_file=None,\n",
    "                                feature_names=iris.feature_names[2:],\n",
    "                                class_names=iris.target_names,\n",
    "                                rounded=True,\n",
    "                                filled=True)"
   ]
  },
  {
   "cell_type": "code",
   "execution_count": 23,
   "metadata": {
    "collapsed": true
   },
   "outputs": [],
   "source": [
    "graph = graphviz.Source(dot_data)"
   ]
  },
  {
   "cell_type": "code",
   "execution_count": 24,
   "metadata": {
    "collapsed": true
   },
   "outputs": [],
   "source": [
    "import numpy as np\n",
    "import seaborn as sns\n",
    "sns.set_style('whitegrid')\n",
    "import matplotlib.pyplot as plt\n",
    "%matplotlib inline"
   ]
  },
  {
   "cell_type": "markdown",
   "metadata": {},
   "source": [
    "# Start Here\n",
    "\n",
    "\n"
   ]
  },
  {
   "cell_type": "code",
   "execution_count": 25,
   "metadata": {},
   "outputs": [
    {
     "data": {
      "text/html": [
       "<div>\n",
       "<style>\n",
       "    .dataframe thead tr:only-child th {\n",
       "        text-align: right;\n",
       "    }\n",
       "\n",
       "    .dataframe thead th {\n",
       "        text-align: left;\n",
       "    }\n",
       "\n",
       "    .dataframe tbody tr th {\n",
       "        vertical-align: top;\n",
       "    }\n",
       "</style>\n",
       "<table border=\"1\" class=\"dataframe\">\n",
       "  <thead>\n",
       "    <tr style=\"text-align: right;\">\n",
       "      <th></th>\n",
       "      <th>sepal_length</th>\n",
       "      <th>sepal_width</th>\n",
       "      <th>petal_length</th>\n",
       "      <th>petal_width</th>\n",
       "      <th>species</th>\n",
       "    </tr>\n",
       "  </thead>\n",
       "  <tbody>\n",
       "    <tr>\n",
       "      <th>0</th>\n",
       "      <td>5.1</td>\n",
       "      <td>3.5</td>\n",
       "      <td>1.4</td>\n",
       "      <td>0.2</td>\n",
       "      <td>setosa</td>\n",
       "    </tr>\n",
       "    <tr>\n",
       "      <th>1</th>\n",
       "      <td>4.9</td>\n",
       "      <td>3.0</td>\n",
       "      <td>1.4</td>\n",
       "      <td>0.2</td>\n",
       "      <td>setosa</td>\n",
       "    </tr>\n",
       "    <tr>\n",
       "      <th>2</th>\n",
       "      <td>4.7</td>\n",
       "      <td>3.2</td>\n",
       "      <td>1.3</td>\n",
       "      <td>0.2</td>\n",
       "      <td>setosa</td>\n",
       "    </tr>\n",
       "    <tr>\n",
       "      <th>3</th>\n",
       "      <td>4.6</td>\n",
       "      <td>3.1</td>\n",
       "      <td>1.5</td>\n",
       "      <td>0.2</td>\n",
       "      <td>setosa</td>\n",
       "    </tr>\n",
       "    <tr>\n",
       "      <th>4</th>\n",
       "      <td>5.0</td>\n",
       "      <td>3.6</td>\n",
       "      <td>1.4</td>\n",
       "      <td>0.2</td>\n",
       "      <td>setosa</td>\n",
       "    </tr>\n",
       "  </tbody>\n",
       "</table>\n",
       "</div>"
      ],
      "text/plain": [
       "   sepal_length  sepal_width  petal_length  petal_width species\n",
       "0           5.1          3.5           1.4          0.2  setosa\n",
       "1           4.9          3.0           1.4          0.2  setosa\n",
       "2           4.7          3.2           1.3          0.2  setosa\n",
       "3           4.6          3.1           1.5          0.2  setosa\n",
       "4           5.0          3.6           1.4          0.2  setosa"
      ]
     },
     "execution_count": 25,
     "metadata": {},
     "output_type": "execute_result"
    }
   ],
   "source": [
    "df = sns.load_dataset('iris')\n",
    "df.head()"
   ]
  },
  {
   "cell_type": "code",
   "execution_count": 26,
   "metadata": {
    "collapsed": true
   },
   "outputs": [],
   "source": [
    "col = ['petal_length', 'petal_width']\n",
    "X = df.loc[:, col]"
   ]
  },
  {
   "cell_type": "code",
   "execution_count": 27,
   "metadata": {
    "collapsed": true
   },
   "outputs": [],
   "source": [
    "species_to_num = {'setosa': 0,\n",
    "                  'versicolor': 1,\n",
    "                  'virginica': 2}\n",
    "df['tmp'] = df['species'].map(species_to_num)\n",
    "y = df['tmp']"
   ]
  },
  {
   "cell_type": "code",
   "execution_count": 28,
   "metadata": {
    "collapsed": true
   },
   "outputs": [],
   "source": [
    "clf = tree.DecisionTreeClassifier()\n",
    "clf = clf.fit(X, y)"
   ]
  },
  {
   "cell_type": "code",
   "execution_count": 29,
   "metadata": {},
   "outputs": [
    {
     "data": {
      "text/html": [
       "<div>\n",
       "<style>\n",
       "    .dataframe thead tr:only-child th {\n",
       "        text-align: right;\n",
       "    }\n",
       "\n",
       "    .dataframe thead th {\n",
       "        text-align: left;\n",
       "    }\n",
       "\n",
       "    .dataframe tbody tr th {\n",
       "        vertical-align: top;\n",
       "    }\n",
       "</style>\n",
       "<table border=\"1\" class=\"dataframe\">\n",
       "  <thead>\n",
       "    <tr style=\"text-align: right;\">\n",
       "      <th></th>\n",
       "      <th>petal_length</th>\n",
       "      <th>petal_width</th>\n",
       "    </tr>\n",
       "  </thead>\n",
       "  <tbody>\n",
       "    <tr>\n",
       "      <th>0</th>\n",
       "      <td>1.4</td>\n",
       "      <td>0.2</td>\n",
       "    </tr>\n",
       "    <tr>\n",
       "      <th>1</th>\n",
       "      <td>1.4</td>\n",
       "      <td>0.2</td>\n",
       "    </tr>\n",
       "    <tr>\n",
       "      <th>2</th>\n",
       "      <td>1.3</td>\n",
       "      <td>0.2</td>\n",
       "    </tr>\n",
       "    <tr>\n",
       "      <th>3</th>\n",
       "      <td>1.5</td>\n",
       "      <td>0.2</td>\n",
       "    </tr>\n",
       "    <tr>\n",
       "      <th>4</th>\n",
       "      <td>1.4</td>\n",
       "      <td>0.2</td>\n",
       "    </tr>\n",
       "  </tbody>\n",
       "</table>\n",
       "</div>"
      ],
      "text/plain": [
       "   petal_length  petal_width\n",
       "0           1.4          0.2\n",
       "1           1.4          0.2\n",
       "2           1.3          0.2\n",
       "3           1.5          0.2\n",
       "4           1.4          0.2"
      ]
     },
     "execution_count": 29,
     "metadata": {},
     "output_type": "execute_result"
    }
   ],
   "source": [
    "X[0:5]"
   ]
  },
  {
   "cell_type": "code",
   "execution_count": 30,
   "metadata": {},
   "outputs": [
    {
     "data": {
      "text/plain": [
       "array([[ 1.4,  0.2],\n",
       "       [ 1.4,  0.2],\n",
       "       [ 1.3,  0.2],\n",
       "       [ 1.5,  0.2],\n",
       "       [ 1.4,  0.2],\n",
       "       [ 1.7,  0.4],\n",
       "       [ 1.4,  0.3],\n",
       "       [ 1.5,  0.2],\n",
       "       [ 1.4,  0.2],\n",
       "       [ 1.5,  0.1],\n",
       "       [ 1.5,  0.2],\n",
       "       [ 1.6,  0.2],\n",
       "       [ 1.4,  0.1],\n",
       "       [ 1.1,  0.1],\n",
       "       [ 1.2,  0.2],\n",
       "       [ 1.5,  0.4],\n",
       "       [ 1.3,  0.4],\n",
       "       [ 1.4,  0.3],\n",
       "       [ 1.7,  0.3],\n",
       "       [ 1.5,  0.3],\n",
       "       [ 1.7,  0.2],\n",
       "       [ 1.5,  0.4],\n",
       "       [ 1. ,  0.2],\n",
       "       [ 1.7,  0.5],\n",
       "       [ 1.9,  0.2],\n",
       "       [ 1.6,  0.2],\n",
       "       [ 1.6,  0.4],\n",
       "       [ 1.5,  0.2],\n",
       "       [ 1.4,  0.2],\n",
       "       [ 1.6,  0.2],\n",
       "       [ 1.6,  0.2],\n",
       "       [ 1.5,  0.4],\n",
       "       [ 1.5,  0.1],\n",
       "       [ 1.4,  0.2],\n",
       "       [ 1.5,  0.2],\n",
       "       [ 1.2,  0.2],\n",
       "       [ 1.3,  0.2],\n",
       "       [ 1.4,  0.1],\n",
       "       [ 1.3,  0.2],\n",
       "       [ 1.5,  0.2],\n",
       "       [ 1.3,  0.3],\n",
       "       [ 1.3,  0.3],\n",
       "       [ 1.3,  0.2],\n",
       "       [ 1.6,  0.6],\n",
       "       [ 1.9,  0.4],\n",
       "       [ 1.4,  0.3],\n",
       "       [ 1.6,  0.2],\n",
       "       [ 1.4,  0.2],\n",
       "       [ 1.5,  0.2],\n",
       "       [ 1.4,  0.2],\n",
       "       [ 4.7,  1.4],\n",
       "       [ 4.5,  1.5],\n",
       "       [ 4.9,  1.5],\n",
       "       [ 4. ,  1.3],\n",
       "       [ 4.6,  1.5],\n",
       "       [ 4.5,  1.3],\n",
       "       [ 4.7,  1.6],\n",
       "       [ 3.3,  1. ],\n",
       "       [ 4.6,  1.3],\n",
       "       [ 3.9,  1.4],\n",
       "       [ 3.5,  1. ],\n",
       "       [ 4.2,  1.5],\n",
       "       [ 4. ,  1. ],\n",
       "       [ 4.7,  1.4],\n",
       "       [ 3.6,  1.3],\n",
       "       [ 4.4,  1.4],\n",
       "       [ 4.5,  1.5],\n",
       "       [ 4.1,  1. ],\n",
       "       [ 4.5,  1.5],\n",
       "       [ 3.9,  1.1],\n",
       "       [ 4.8,  1.8],\n",
       "       [ 4. ,  1.3],\n",
       "       [ 4.9,  1.5],\n",
       "       [ 4.7,  1.2],\n",
       "       [ 4.3,  1.3],\n",
       "       [ 4.4,  1.4],\n",
       "       [ 4.8,  1.4],\n",
       "       [ 5. ,  1.7],\n",
       "       [ 4.5,  1.5],\n",
       "       [ 3.5,  1. ],\n",
       "       [ 3.8,  1.1],\n",
       "       [ 3.7,  1. ],\n",
       "       [ 3.9,  1.2],\n",
       "       [ 5.1,  1.6],\n",
       "       [ 4.5,  1.5],\n",
       "       [ 4.5,  1.6],\n",
       "       [ 4.7,  1.5],\n",
       "       [ 4.4,  1.3],\n",
       "       [ 4.1,  1.3],\n",
       "       [ 4. ,  1.3],\n",
       "       [ 4.4,  1.2],\n",
       "       [ 4.6,  1.4],\n",
       "       [ 4. ,  1.2],\n",
       "       [ 3.3,  1. ],\n",
       "       [ 4.2,  1.3],\n",
       "       [ 4.2,  1.2],\n",
       "       [ 4.2,  1.3],\n",
       "       [ 4.3,  1.3],\n",
       "       [ 3. ,  1.1],\n",
       "       [ 4.1,  1.3],\n",
       "       [ 6. ,  2.5],\n",
       "       [ 5.1,  1.9],\n",
       "       [ 5.9,  2.1],\n",
       "       [ 5.6,  1.8],\n",
       "       [ 5.8,  2.2],\n",
       "       [ 6.6,  2.1],\n",
       "       [ 4.5,  1.7],\n",
       "       [ 6.3,  1.8],\n",
       "       [ 5.8,  1.8],\n",
       "       [ 6.1,  2.5],\n",
       "       [ 5.1,  2. ],\n",
       "       [ 5.3,  1.9],\n",
       "       [ 5.5,  2.1],\n",
       "       [ 5. ,  2. ],\n",
       "       [ 5.1,  2.4],\n",
       "       [ 5.3,  2.3],\n",
       "       [ 5.5,  1.8],\n",
       "       [ 6.7,  2.2],\n",
       "       [ 6.9,  2.3],\n",
       "       [ 5. ,  1.5],\n",
       "       [ 5.7,  2.3],\n",
       "       [ 4.9,  2. ],\n",
       "       [ 6.7,  2. ],\n",
       "       [ 4.9,  1.8],\n",
       "       [ 5.7,  2.1],\n",
       "       [ 6. ,  1.8],\n",
       "       [ 4.8,  1.8],\n",
       "       [ 4.9,  1.8],\n",
       "       [ 5.6,  2.1],\n",
       "       [ 5.8,  1.6],\n",
       "       [ 6.1,  1.9],\n",
       "       [ 6.4,  2. ],\n",
       "       [ 5.6,  2.2],\n",
       "       [ 5.1,  1.5],\n",
       "       [ 5.6,  1.4],\n",
       "       [ 6.1,  2.3],\n",
       "       [ 5.6,  2.4],\n",
       "       [ 5.5,  1.8],\n",
       "       [ 4.8,  1.8],\n",
       "       [ 5.4,  2.1],\n",
       "       [ 5.6,  2.4],\n",
       "       [ 5.1,  2.3],\n",
       "       [ 5.1,  1.9],\n",
       "       [ 5.9,  2.3],\n",
       "       [ 5.7,  2.5],\n",
       "       [ 5.2,  2.3],\n",
       "       [ 5. ,  1.9],\n",
       "       [ 5.2,  2. ],\n",
       "       [ 5.4,  2.3],\n",
       "       [ 5.1,  1.8]])"
      ]
     },
     "execution_count": 30,
     "metadata": {},
     "output_type": "execute_result"
    }
   ],
   "source": [
    "X.values"
   ]
  },
  {
   "cell_type": "code",
   "execution_count": 31,
   "metadata": {},
   "outputs": [
    {
     "data": {
      "text/plain": [
       "array([[ 1.4],\n",
       "       [ 0.2],\n",
       "       [ 1.4],\n",
       "       [ 0.2],\n",
       "       [ 1.3],\n",
       "       [ 0.2],\n",
       "       [ 1.5],\n",
       "       [ 0.2],\n",
       "       [ 1.4],\n",
       "       [ 0.2],\n",
       "       [ 1.7],\n",
       "       [ 0.4],\n",
       "       [ 1.4],\n",
       "       [ 0.3],\n",
       "       [ 1.5],\n",
       "       [ 0.2],\n",
       "       [ 1.4],\n",
       "       [ 0.2],\n",
       "       [ 1.5],\n",
       "       [ 0.1],\n",
       "       [ 1.5],\n",
       "       [ 0.2],\n",
       "       [ 1.6],\n",
       "       [ 0.2],\n",
       "       [ 1.4],\n",
       "       [ 0.1],\n",
       "       [ 1.1],\n",
       "       [ 0.1],\n",
       "       [ 1.2],\n",
       "       [ 0.2],\n",
       "       [ 1.5],\n",
       "       [ 0.4],\n",
       "       [ 1.3],\n",
       "       [ 0.4],\n",
       "       [ 1.4],\n",
       "       [ 0.3],\n",
       "       [ 1.7],\n",
       "       [ 0.3],\n",
       "       [ 1.5],\n",
       "       [ 0.3],\n",
       "       [ 1.7],\n",
       "       [ 0.2],\n",
       "       [ 1.5],\n",
       "       [ 0.4],\n",
       "       [ 1. ],\n",
       "       [ 0.2],\n",
       "       [ 1.7],\n",
       "       [ 0.5],\n",
       "       [ 1.9],\n",
       "       [ 0.2],\n",
       "       [ 1.6],\n",
       "       [ 0.2],\n",
       "       [ 1.6],\n",
       "       [ 0.4],\n",
       "       [ 1.5],\n",
       "       [ 0.2],\n",
       "       [ 1.4],\n",
       "       [ 0.2],\n",
       "       [ 1.6],\n",
       "       [ 0.2],\n",
       "       [ 1.6],\n",
       "       [ 0.2],\n",
       "       [ 1.5],\n",
       "       [ 0.4],\n",
       "       [ 1.5],\n",
       "       [ 0.1],\n",
       "       [ 1.4],\n",
       "       [ 0.2],\n",
       "       [ 1.5],\n",
       "       [ 0.2],\n",
       "       [ 1.2],\n",
       "       [ 0.2],\n",
       "       [ 1.3],\n",
       "       [ 0.2],\n",
       "       [ 1.4],\n",
       "       [ 0.1],\n",
       "       [ 1.3],\n",
       "       [ 0.2],\n",
       "       [ 1.5],\n",
       "       [ 0.2],\n",
       "       [ 1.3],\n",
       "       [ 0.3],\n",
       "       [ 1.3],\n",
       "       [ 0.3],\n",
       "       [ 1.3],\n",
       "       [ 0.2],\n",
       "       [ 1.6],\n",
       "       [ 0.6],\n",
       "       [ 1.9],\n",
       "       [ 0.4],\n",
       "       [ 1.4],\n",
       "       [ 0.3],\n",
       "       [ 1.6],\n",
       "       [ 0.2],\n",
       "       [ 1.4],\n",
       "       [ 0.2],\n",
       "       [ 1.5],\n",
       "       [ 0.2],\n",
       "       [ 1.4],\n",
       "       [ 0.2],\n",
       "       [ 4.7],\n",
       "       [ 1.4],\n",
       "       [ 4.5],\n",
       "       [ 1.5],\n",
       "       [ 4.9],\n",
       "       [ 1.5],\n",
       "       [ 4. ],\n",
       "       [ 1.3],\n",
       "       [ 4.6],\n",
       "       [ 1.5],\n",
       "       [ 4.5],\n",
       "       [ 1.3],\n",
       "       [ 4.7],\n",
       "       [ 1.6],\n",
       "       [ 3.3],\n",
       "       [ 1. ],\n",
       "       [ 4.6],\n",
       "       [ 1.3],\n",
       "       [ 3.9],\n",
       "       [ 1.4],\n",
       "       [ 3.5],\n",
       "       [ 1. ],\n",
       "       [ 4.2],\n",
       "       [ 1.5],\n",
       "       [ 4. ],\n",
       "       [ 1. ],\n",
       "       [ 4.7],\n",
       "       [ 1.4],\n",
       "       [ 3.6],\n",
       "       [ 1.3],\n",
       "       [ 4.4],\n",
       "       [ 1.4],\n",
       "       [ 4.5],\n",
       "       [ 1.5],\n",
       "       [ 4.1],\n",
       "       [ 1. ],\n",
       "       [ 4.5],\n",
       "       [ 1.5],\n",
       "       [ 3.9],\n",
       "       [ 1.1],\n",
       "       [ 4.8],\n",
       "       [ 1.8],\n",
       "       [ 4. ],\n",
       "       [ 1.3],\n",
       "       [ 4.9],\n",
       "       [ 1.5],\n",
       "       [ 4.7],\n",
       "       [ 1.2],\n",
       "       [ 4.3],\n",
       "       [ 1.3],\n",
       "       [ 4.4],\n",
       "       [ 1.4],\n",
       "       [ 4.8],\n",
       "       [ 1.4],\n",
       "       [ 5. ],\n",
       "       [ 1.7],\n",
       "       [ 4.5],\n",
       "       [ 1.5],\n",
       "       [ 3.5],\n",
       "       [ 1. ],\n",
       "       [ 3.8],\n",
       "       [ 1.1],\n",
       "       [ 3.7],\n",
       "       [ 1. ],\n",
       "       [ 3.9],\n",
       "       [ 1.2],\n",
       "       [ 5.1],\n",
       "       [ 1.6],\n",
       "       [ 4.5],\n",
       "       [ 1.5],\n",
       "       [ 4.5],\n",
       "       [ 1.6],\n",
       "       [ 4.7],\n",
       "       [ 1.5],\n",
       "       [ 4.4],\n",
       "       [ 1.3],\n",
       "       [ 4.1],\n",
       "       [ 1.3],\n",
       "       [ 4. ],\n",
       "       [ 1.3],\n",
       "       [ 4.4],\n",
       "       [ 1.2],\n",
       "       [ 4.6],\n",
       "       [ 1.4],\n",
       "       [ 4. ],\n",
       "       [ 1.2],\n",
       "       [ 3.3],\n",
       "       [ 1. ],\n",
       "       [ 4.2],\n",
       "       [ 1.3],\n",
       "       [ 4.2],\n",
       "       [ 1.2],\n",
       "       [ 4.2],\n",
       "       [ 1.3],\n",
       "       [ 4.3],\n",
       "       [ 1.3],\n",
       "       [ 3. ],\n",
       "       [ 1.1],\n",
       "       [ 4.1],\n",
       "       [ 1.3],\n",
       "       [ 6. ],\n",
       "       [ 2.5],\n",
       "       [ 5.1],\n",
       "       [ 1.9],\n",
       "       [ 5.9],\n",
       "       [ 2.1],\n",
       "       [ 5.6],\n",
       "       [ 1.8],\n",
       "       [ 5.8],\n",
       "       [ 2.2],\n",
       "       [ 6.6],\n",
       "       [ 2.1],\n",
       "       [ 4.5],\n",
       "       [ 1.7],\n",
       "       [ 6.3],\n",
       "       [ 1.8],\n",
       "       [ 5.8],\n",
       "       [ 1.8],\n",
       "       [ 6.1],\n",
       "       [ 2.5],\n",
       "       [ 5.1],\n",
       "       [ 2. ],\n",
       "       [ 5.3],\n",
       "       [ 1.9],\n",
       "       [ 5.5],\n",
       "       [ 2.1],\n",
       "       [ 5. ],\n",
       "       [ 2. ],\n",
       "       [ 5.1],\n",
       "       [ 2.4],\n",
       "       [ 5.3],\n",
       "       [ 2.3],\n",
       "       [ 5.5],\n",
       "       [ 1.8],\n",
       "       [ 6.7],\n",
       "       [ 2.2],\n",
       "       [ 6.9],\n",
       "       [ 2.3],\n",
       "       [ 5. ],\n",
       "       [ 1.5],\n",
       "       [ 5.7],\n",
       "       [ 2.3],\n",
       "       [ 4.9],\n",
       "       [ 2. ],\n",
       "       [ 6.7],\n",
       "       [ 2. ],\n",
       "       [ 4.9],\n",
       "       [ 1.8],\n",
       "       [ 5.7],\n",
       "       [ 2.1],\n",
       "       [ 6. ],\n",
       "       [ 1.8],\n",
       "       [ 4.8],\n",
       "       [ 1.8],\n",
       "       [ 4.9],\n",
       "       [ 1.8],\n",
       "       [ 5.6],\n",
       "       [ 2.1],\n",
       "       [ 5.8],\n",
       "       [ 1.6],\n",
       "       [ 6.1],\n",
       "       [ 1.9],\n",
       "       [ 6.4],\n",
       "       [ 2. ],\n",
       "       [ 5.6],\n",
       "       [ 2.2],\n",
       "       [ 5.1],\n",
       "       [ 1.5],\n",
       "       [ 5.6],\n",
       "       [ 1.4],\n",
       "       [ 6.1],\n",
       "       [ 2.3],\n",
       "       [ 5.6],\n",
       "       [ 2.4],\n",
       "       [ 5.5],\n",
       "       [ 1.8],\n",
       "       [ 4.8],\n",
       "       [ 1.8],\n",
       "       [ 5.4],\n",
       "       [ 2.1],\n",
       "       [ 5.6],\n",
       "       [ 2.4],\n",
       "       [ 5.1],\n",
       "       [ 2.3],\n",
       "       [ 5.1],\n",
       "       [ 1.9],\n",
       "       [ 5.9],\n",
       "       [ 2.3],\n",
       "       [ 5.7],\n",
       "       [ 2.5],\n",
       "       [ 5.2],\n",
       "       [ 2.3],\n",
       "       [ 5. ],\n",
       "       [ 1.9],\n",
       "       [ 5.2],\n",
       "       [ 2. ],\n",
       "       [ 5.4],\n",
       "       [ 2.3],\n",
       "       [ 5.1],\n",
       "       [ 1.8]])"
      ]
     },
     "execution_count": 31,
     "metadata": {},
     "output_type": "execute_result"
    }
   ],
   "source": [
    "X.values.reshape(-1,1)"
   ]
  },
  {
   "cell_type": "code",
   "execution_count": 32,
   "metadata": {
    "collapsed": true
   },
   "outputs": [],
   "source": [
    "Xv = X.values.reshape(-1,1)"
   ]
  },
  {
   "cell_type": "code",
   "execution_count": 33,
   "metadata": {},
   "outputs": [
    {
     "data": {
      "text/plain": [
       "array([[ 1.4],\n",
       "       [ 0.2],\n",
       "       [ 1.4],\n",
       "       [ 0.2],\n",
       "       [ 1.3],\n",
       "       [ 0.2],\n",
       "       [ 1.5],\n",
       "       [ 0.2],\n",
       "       [ 1.4],\n",
       "       [ 0.2],\n",
       "       [ 1.7],\n",
       "       [ 0.4],\n",
       "       [ 1.4],\n",
       "       [ 0.3],\n",
       "       [ 1.5],\n",
       "       [ 0.2],\n",
       "       [ 1.4],\n",
       "       [ 0.2],\n",
       "       [ 1.5],\n",
       "       [ 0.1],\n",
       "       [ 1.5],\n",
       "       [ 0.2],\n",
       "       [ 1.6],\n",
       "       [ 0.2],\n",
       "       [ 1.4],\n",
       "       [ 0.1],\n",
       "       [ 1.1],\n",
       "       [ 0.1],\n",
       "       [ 1.2],\n",
       "       [ 0.2],\n",
       "       [ 1.5],\n",
       "       [ 0.4],\n",
       "       [ 1.3],\n",
       "       [ 0.4],\n",
       "       [ 1.4],\n",
       "       [ 0.3],\n",
       "       [ 1.7],\n",
       "       [ 0.3],\n",
       "       [ 1.5],\n",
       "       [ 0.3],\n",
       "       [ 1.7],\n",
       "       [ 0.2],\n",
       "       [ 1.5],\n",
       "       [ 0.4],\n",
       "       [ 1. ],\n",
       "       [ 0.2],\n",
       "       [ 1.7],\n",
       "       [ 0.5],\n",
       "       [ 1.9],\n",
       "       [ 0.2],\n",
       "       [ 1.6],\n",
       "       [ 0.2],\n",
       "       [ 1.6],\n",
       "       [ 0.4],\n",
       "       [ 1.5],\n",
       "       [ 0.2],\n",
       "       [ 1.4],\n",
       "       [ 0.2],\n",
       "       [ 1.6],\n",
       "       [ 0.2],\n",
       "       [ 1.6],\n",
       "       [ 0.2],\n",
       "       [ 1.5],\n",
       "       [ 0.4],\n",
       "       [ 1.5],\n",
       "       [ 0.1],\n",
       "       [ 1.4],\n",
       "       [ 0.2],\n",
       "       [ 1.5],\n",
       "       [ 0.2],\n",
       "       [ 1.2],\n",
       "       [ 0.2],\n",
       "       [ 1.3],\n",
       "       [ 0.2],\n",
       "       [ 1.4],\n",
       "       [ 0.1],\n",
       "       [ 1.3],\n",
       "       [ 0.2],\n",
       "       [ 1.5],\n",
       "       [ 0.2],\n",
       "       [ 1.3],\n",
       "       [ 0.3],\n",
       "       [ 1.3],\n",
       "       [ 0.3],\n",
       "       [ 1.3],\n",
       "       [ 0.2],\n",
       "       [ 1.6],\n",
       "       [ 0.6],\n",
       "       [ 1.9],\n",
       "       [ 0.4],\n",
       "       [ 1.4],\n",
       "       [ 0.3],\n",
       "       [ 1.6],\n",
       "       [ 0.2],\n",
       "       [ 1.4],\n",
       "       [ 0.2],\n",
       "       [ 1.5],\n",
       "       [ 0.2],\n",
       "       [ 1.4],\n",
       "       [ 0.2],\n",
       "       [ 4.7],\n",
       "       [ 1.4],\n",
       "       [ 4.5],\n",
       "       [ 1.5],\n",
       "       [ 4.9],\n",
       "       [ 1.5],\n",
       "       [ 4. ],\n",
       "       [ 1.3],\n",
       "       [ 4.6],\n",
       "       [ 1.5],\n",
       "       [ 4.5],\n",
       "       [ 1.3],\n",
       "       [ 4.7],\n",
       "       [ 1.6],\n",
       "       [ 3.3],\n",
       "       [ 1. ],\n",
       "       [ 4.6],\n",
       "       [ 1.3],\n",
       "       [ 3.9],\n",
       "       [ 1.4],\n",
       "       [ 3.5],\n",
       "       [ 1. ],\n",
       "       [ 4.2],\n",
       "       [ 1.5],\n",
       "       [ 4. ],\n",
       "       [ 1. ],\n",
       "       [ 4.7],\n",
       "       [ 1.4],\n",
       "       [ 3.6],\n",
       "       [ 1.3],\n",
       "       [ 4.4],\n",
       "       [ 1.4],\n",
       "       [ 4.5],\n",
       "       [ 1.5],\n",
       "       [ 4.1],\n",
       "       [ 1. ],\n",
       "       [ 4.5],\n",
       "       [ 1.5],\n",
       "       [ 3.9],\n",
       "       [ 1.1],\n",
       "       [ 4.8],\n",
       "       [ 1.8],\n",
       "       [ 4. ],\n",
       "       [ 1.3],\n",
       "       [ 4.9],\n",
       "       [ 1.5],\n",
       "       [ 4.7],\n",
       "       [ 1.2],\n",
       "       [ 4.3],\n",
       "       [ 1.3],\n",
       "       [ 4.4],\n",
       "       [ 1.4],\n",
       "       [ 4.8],\n",
       "       [ 1.4],\n",
       "       [ 5. ],\n",
       "       [ 1.7],\n",
       "       [ 4.5],\n",
       "       [ 1.5],\n",
       "       [ 3.5],\n",
       "       [ 1. ],\n",
       "       [ 3.8],\n",
       "       [ 1.1],\n",
       "       [ 3.7],\n",
       "       [ 1. ],\n",
       "       [ 3.9],\n",
       "       [ 1.2],\n",
       "       [ 5.1],\n",
       "       [ 1.6],\n",
       "       [ 4.5],\n",
       "       [ 1.5],\n",
       "       [ 4.5],\n",
       "       [ 1.6],\n",
       "       [ 4.7],\n",
       "       [ 1.5],\n",
       "       [ 4.4],\n",
       "       [ 1.3],\n",
       "       [ 4.1],\n",
       "       [ 1.3],\n",
       "       [ 4. ],\n",
       "       [ 1.3],\n",
       "       [ 4.4],\n",
       "       [ 1.2],\n",
       "       [ 4.6],\n",
       "       [ 1.4],\n",
       "       [ 4. ],\n",
       "       [ 1.2],\n",
       "       [ 3.3],\n",
       "       [ 1. ],\n",
       "       [ 4.2],\n",
       "       [ 1.3],\n",
       "       [ 4.2],\n",
       "       [ 1.2],\n",
       "       [ 4.2],\n",
       "       [ 1.3],\n",
       "       [ 4.3],\n",
       "       [ 1.3],\n",
       "       [ 3. ],\n",
       "       [ 1.1],\n",
       "       [ 4.1],\n",
       "       [ 1.3],\n",
       "       [ 6. ],\n",
       "       [ 2.5],\n",
       "       [ 5.1],\n",
       "       [ 1.9],\n",
       "       [ 5.9],\n",
       "       [ 2.1],\n",
       "       [ 5.6],\n",
       "       [ 1.8],\n",
       "       [ 5.8],\n",
       "       [ 2.2],\n",
       "       [ 6.6],\n",
       "       [ 2.1],\n",
       "       [ 4.5],\n",
       "       [ 1.7],\n",
       "       [ 6.3],\n",
       "       [ 1.8],\n",
       "       [ 5.8],\n",
       "       [ 1.8],\n",
       "       [ 6.1],\n",
       "       [ 2.5],\n",
       "       [ 5.1],\n",
       "       [ 2. ],\n",
       "       [ 5.3],\n",
       "       [ 1.9],\n",
       "       [ 5.5],\n",
       "       [ 2.1],\n",
       "       [ 5. ],\n",
       "       [ 2. ],\n",
       "       [ 5.1],\n",
       "       [ 2.4],\n",
       "       [ 5.3],\n",
       "       [ 2.3],\n",
       "       [ 5.5],\n",
       "       [ 1.8],\n",
       "       [ 6.7],\n",
       "       [ 2.2],\n",
       "       [ 6.9],\n",
       "       [ 2.3],\n",
       "       [ 5. ],\n",
       "       [ 1.5],\n",
       "       [ 5.7],\n",
       "       [ 2.3],\n",
       "       [ 4.9],\n",
       "       [ 2. ],\n",
       "       [ 6.7],\n",
       "       [ 2. ],\n",
       "       [ 4.9],\n",
       "       [ 1.8],\n",
       "       [ 5.7],\n",
       "       [ 2.1],\n",
       "       [ 6. ],\n",
       "       [ 1.8],\n",
       "       [ 4.8],\n",
       "       [ 1.8],\n",
       "       [ 4.9],\n",
       "       [ 1.8],\n",
       "       [ 5.6],\n",
       "       [ 2.1],\n",
       "       [ 5.8],\n",
       "       [ 1.6],\n",
       "       [ 6.1],\n",
       "       [ 1.9],\n",
       "       [ 6.4],\n",
       "       [ 2. ],\n",
       "       [ 5.6],\n",
       "       [ 2.2],\n",
       "       [ 5.1],\n",
       "       [ 1.5],\n",
       "       [ 5.6],\n",
       "       [ 1.4],\n",
       "       [ 6.1],\n",
       "       [ 2.3],\n",
       "       [ 5.6],\n",
       "       [ 2.4],\n",
       "       [ 5.5],\n",
       "       [ 1.8],\n",
       "       [ 4.8],\n",
       "       [ 1.8],\n",
       "       [ 5.4],\n",
       "       [ 2.1],\n",
       "       [ 5.6],\n",
       "       [ 2.4],\n",
       "       [ 5.1],\n",
       "       [ 2.3],\n",
       "       [ 5.1],\n",
       "       [ 1.9],\n",
       "       [ 5.9],\n",
       "       [ 2.3],\n",
       "       [ 5.7],\n",
       "       [ 2.5],\n",
       "       [ 5.2],\n",
       "       [ 2.3],\n",
       "       [ 5. ],\n",
       "       [ 1.9],\n",
       "       [ 5.2],\n",
       "       [ 2. ],\n",
       "       [ 5.4],\n",
       "       [ 2.3],\n",
       "       [ 5.1],\n",
       "       [ 1.8]])"
      ]
     },
     "execution_count": 33,
     "metadata": {},
     "output_type": "execute_result"
    }
   ],
   "source": [
    "Xv"
   ]
  },
  {
   "cell_type": "code",
   "execution_count": 34,
   "metadata": {
    "collapsed": true
   },
   "outputs": [],
   "source": [
    "h = 0.02 # set the spacing"
   ]
  },
  {
   "cell_type": "code",
   "execution_count": 35,
   "metadata": {},
   "outputs": [
    {
     "data": {
      "text/plain": [
       "0.10000000000000001"
      ]
     },
     "execution_count": 35,
     "metadata": {},
     "output_type": "execute_result"
    }
   ],
   "source": [
    "Xv.min()"
   ]
  },
  {
   "cell_type": "code",
   "execution_count": 36,
   "metadata": {},
   "outputs": [
    {
     "data": {
      "text/plain": [
       "7.9000000000000004"
      ]
     },
     "execution_count": 36,
     "metadata": {},
     "output_type": "execute_result"
    }
   ],
   "source": [
    "Xv.max() + 1"
   ]
  },
  {
   "cell_type": "code",
   "execution_count": 37,
   "metadata": {
    "collapsed": true
   },
   "outputs": [],
   "source": [
    "x_min, x_max = Xv.min(), Xv.max() + 1"
   ]
  },
  {
   "cell_type": "code",
   "execution_count": 38,
   "metadata": {},
   "outputs": [
    {
     "data": {
      "text/plain": [
       "0"
      ]
     },
     "execution_count": 38,
     "metadata": {},
     "output_type": "execute_result"
    }
   ],
   "source": [
    "y.min()"
   ]
  },
  {
   "cell_type": "code",
   "execution_count": 39,
   "metadata": {},
   "outputs": [
    {
     "data": {
      "text/plain": [
       "3"
      ]
     },
     "execution_count": 39,
     "metadata": {},
     "output_type": "execute_result"
    }
   ],
   "source": [
    "y.max() + 1"
   ]
  },
  {
   "cell_type": "code",
   "execution_count": 40,
   "metadata": {
    "collapsed": true
   },
   "outputs": [],
   "source": [
    "y_min, y_max = y.min(), y.max() + 1"
   ]
  },
  {
   "cell_type": "code",
   "execution_count": 41,
   "metadata": {},
   "outputs": [
    {
     "data": {
      "text/plain": [
       "0"
      ]
     },
     "execution_count": 41,
     "metadata": {},
     "output_type": "execute_result"
    }
   ],
   "source": [
    "y_min"
   ]
  },
  {
   "cell_type": "code",
   "execution_count": 42,
   "metadata": {},
   "outputs": [
    {
     "data": {
      "text/plain": [
       "3"
      ]
     },
     "execution_count": 42,
     "metadata": {},
     "output_type": "execute_result"
    }
   ],
   "source": [
    "y_max"
   ]
  },
  {
   "cell_type": "code",
   "execution_count": 43,
   "metadata": {
    "scrolled": true
   },
   "outputs": [
    {
     "data": {
      "text/plain": [
       "array([ 0.1 ,  0.12,  0.14,  0.16,  0.18,  0.2 ,  0.22,  0.24,  0.26,\n",
       "        0.28,  0.3 ,  0.32,  0.34,  0.36,  0.38,  0.4 ,  0.42,  0.44,\n",
       "        0.46,  0.48,  0.5 ,  0.52,  0.54,  0.56,  0.58,  0.6 ,  0.62,\n",
       "        0.64,  0.66,  0.68,  0.7 ,  0.72,  0.74,  0.76,  0.78,  0.8 ,\n",
       "        0.82,  0.84,  0.86,  0.88,  0.9 ,  0.92,  0.94,  0.96,  0.98,\n",
       "        1.  ,  1.02,  1.04,  1.06,  1.08,  1.1 ,  1.12,  1.14,  1.16,\n",
       "        1.18,  1.2 ,  1.22,  1.24,  1.26,  1.28,  1.3 ,  1.32,  1.34,\n",
       "        1.36,  1.38,  1.4 ,  1.42,  1.44,  1.46,  1.48,  1.5 ,  1.52,\n",
       "        1.54,  1.56,  1.58,  1.6 ,  1.62,  1.64,  1.66,  1.68,  1.7 ,\n",
       "        1.72,  1.74,  1.76,  1.78,  1.8 ,  1.82,  1.84,  1.86,  1.88,\n",
       "        1.9 ,  1.92,  1.94,  1.96,  1.98,  2.  ,  2.02,  2.04,  2.06,\n",
       "        2.08,  2.1 ,  2.12,  2.14,  2.16,  2.18,  2.2 ,  2.22,  2.24,\n",
       "        2.26,  2.28,  2.3 ,  2.32,  2.34,  2.36,  2.38,  2.4 ,  2.42,\n",
       "        2.44,  2.46,  2.48,  2.5 ,  2.52,  2.54,  2.56,  2.58,  2.6 ,\n",
       "        2.62,  2.64,  2.66,  2.68,  2.7 ,  2.72,  2.74,  2.76,  2.78,\n",
       "        2.8 ,  2.82,  2.84,  2.86,  2.88,  2.9 ,  2.92,  2.94,  2.96,\n",
       "        2.98,  3.  ,  3.02,  3.04,  3.06,  3.08,  3.1 ,  3.12,  3.14,\n",
       "        3.16,  3.18,  3.2 ,  3.22,  3.24,  3.26,  3.28,  3.3 ,  3.32,\n",
       "        3.34,  3.36,  3.38,  3.4 ,  3.42,  3.44,  3.46,  3.48,  3.5 ,\n",
       "        3.52,  3.54,  3.56,  3.58,  3.6 ,  3.62,  3.64,  3.66,  3.68,\n",
       "        3.7 ,  3.72,  3.74,  3.76,  3.78,  3.8 ,  3.82,  3.84,  3.86,\n",
       "        3.88,  3.9 ,  3.92,  3.94,  3.96,  3.98,  4.  ,  4.02,  4.04,\n",
       "        4.06,  4.08,  4.1 ,  4.12,  4.14,  4.16,  4.18,  4.2 ,  4.22,\n",
       "        4.24,  4.26,  4.28,  4.3 ,  4.32,  4.34,  4.36,  4.38,  4.4 ,\n",
       "        4.42,  4.44,  4.46,  4.48,  4.5 ,  4.52,  4.54,  4.56,  4.58,\n",
       "        4.6 ,  4.62,  4.64,  4.66,  4.68,  4.7 ,  4.72,  4.74,  4.76,\n",
       "        4.78,  4.8 ,  4.82,  4.84,  4.86,  4.88,  4.9 ,  4.92,  4.94,\n",
       "        4.96,  4.98,  5.  ,  5.02,  5.04,  5.06,  5.08,  5.1 ,  5.12,\n",
       "        5.14,  5.16,  5.18,  5.2 ,  5.22,  5.24,  5.26,  5.28,  5.3 ,\n",
       "        5.32,  5.34,  5.36,  5.38,  5.4 ,  5.42,  5.44,  5.46,  5.48,\n",
       "        5.5 ,  5.52,  5.54,  5.56,  5.58,  5.6 ,  5.62,  5.64,  5.66,\n",
       "        5.68,  5.7 ,  5.72,  5.74,  5.76,  5.78,  5.8 ,  5.82,  5.84,\n",
       "        5.86,  5.88,  5.9 ,  5.92,  5.94,  5.96,  5.98,  6.  ,  6.02,\n",
       "        6.04,  6.06,  6.08,  6.1 ,  6.12,  6.14,  6.16,  6.18,  6.2 ,\n",
       "        6.22,  6.24,  6.26,  6.28,  6.3 ,  6.32,  6.34,  6.36,  6.38,\n",
       "        6.4 ,  6.42,  6.44,  6.46,  6.48,  6.5 ,  6.52,  6.54,  6.56,\n",
       "        6.58,  6.6 ,  6.62,  6.64,  6.66,  6.68,  6.7 ,  6.72,  6.74,\n",
       "        6.76,  6.78,  6.8 ,  6.82,  6.84,  6.86,  6.88,  6.9 ,  6.92,\n",
       "        6.94,  6.96,  6.98,  7.  ,  7.02,  7.04,  7.06,  7.08,  7.1 ,\n",
       "        7.12,  7.14,  7.16,  7.18,  7.2 ,  7.22,  7.24,  7.26,  7.28,\n",
       "        7.3 ,  7.32,  7.34,  7.36,  7.38,  7.4 ,  7.42,  7.44,  7.46,\n",
       "        7.48,  7.5 ,  7.52,  7.54,  7.56,  7.58,  7.6 ,  7.62,  7.64,\n",
       "        7.66,  7.68,  7.7 ,  7.72,  7.74,  7.76,  7.78,  7.8 ,  7.82,\n",
       "        7.84,  7.86,  7.88])"
      ]
     },
     "execution_count": 43,
     "metadata": {},
     "output_type": "execute_result"
    }
   ],
   "source": [
    "np.arange(x_min, x_max, h)"
   ]
  },
  {
   "cell_type": "code",
   "execution_count": 44,
   "metadata": {},
   "outputs": [
    {
     "data": {
      "text/plain": [
       "array([ 0.  ,  0.02,  0.04,  0.06,  0.08,  0.1 ,  0.12,  0.14,  0.16,\n",
       "        0.18,  0.2 ,  0.22,  0.24,  0.26,  0.28,  0.3 ,  0.32,  0.34,\n",
       "        0.36,  0.38,  0.4 ,  0.42,  0.44,  0.46,  0.48,  0.5 ,  0.52,\n",
       "        0.54,  0.56,  0.58,  0.6 ,  0.62,  0.64,  0.66,  0.68,  0.7 ,\n",
       "        0.72,  0.74,  0.76,  0.78,  0.8 ,  0.82,  0.84,  0.86,  0.88,\n",
       "        0.9 ,  0.92,  0.94,  0.96,  0.98,  1.  ,  1.02,  1.04,  1.06,\n",
       "        1.08,  1.1 ,  1.12,  1.14,  1.16,  1.18,  1.2 ,  1.22,  1.24,\n",
       "        1.26,  1.28,  1.3 ,  1.32,  1.34,  1.36,  1.38,  1.4 ,  1.42,\n",
       "        1.44,  1.46,  1.48,  1.5 ,  1.52,  1.54,  1.56,  1.58,  1.6 ,\n",
       "        1.62,  1.64,  1.66,  1.68,  1.7 ,  1.72,  1.74,  1.76,  1.78,\n",
       "        1.8 ,  1.82,  1.84,  1.86,  1.88,  1.9 ,  1.92,  1.94,  1.96,\n",
       "        1.98,  2.  ,  2.02,  2.04,  2.06,  2.08,  2.1 ,  2.12,  2.14,\n",
       "        2.16,  2.18,  2.2 ,  2.22,  2.24,  2.26,  2.28,  2.3 ,  2.32,\n",
       "        2.34,  2.36,  2.38,  2.4 ,  2.42,  2.44,  2.46,  2.48,  2.5 ,\n",
       "        2.52,  2.54,  2.56,  2.58,  2.6 ,  2.62,  2.64,  2.66,  2.68,\n",
       "        2.7 ,  2.72,  2.74,  2.76,  2.78,  2.8 ,  2.82,  2.84,  2.86,\n",
       "        2.88,  2.9 ,  2.92,  2.94,  2.96,  2.98])"
      ]
     },
     "execution_count": 44,
     "metadata": {},
     "output_type": "execute_result"
    }
   ],
   "source": [
    "np.arange(y_min, y_max, h)"
   ]
  },
  {
   "cell_type": "code",
   "execution_count": 45,
   "metadata": {},
   "outputs": [
    {
     "data": {
      "text/plain": [
       "[array([[ 0.1 ,  0.12,  0.14, ...,  7.84,  7.86,  7.88],\n",
       "        [ 0.1 ,  0.12,  0.14, ...,  7.84,  7.86,  7.88],\n",
       "        [ 0.1 ,  0.12,  0.14, ...,  7.84,  7.86,  7.88],\n",
       "        ..., \n",
       "        [ 0.1 ,  0.12,  0.14, ...,  7.84,  7.86,  7.88],\n",
       "        [ 0.1 ,  0.12,  0.14, ...,  7.84,  7.86,  7.88],\n",
       "        [ 0.1 ,  0.12,  0.14, ...,  7.84,  7.86,  7.88]]),\n",
       " array([[ 0.  ,  0.  ,  0.  , ...,  0.  ,  0.  ,  0.  ],\n",
       "        [ 0.02,  0.02,  0.02, ...,  0.02,  0.02,  0.02],\n",
       "        [ 0.04,  0.04,  0.04, ...,  0.04,  0.04,  0.04],\n",
       "        ..., \n",
       "        [ 2.94,  2.94,  2.94, ...,  2.94,  2.94,  2.94],\n",
       "        [ 2.96,  2.96,  2.96, ...,  2.96,  2.96,  2.96],\n",
       "        [ 2.98,  2.98,  2.98, ...,  2.98,  2.98,  2.98]])]"
      ]
     },
     "execution_count": 45,
     "metadata": {},
     "output_type": "execute_result"
    }
   ],
   "source": [
    "np.meshgrid(np.arange(x_min, x_max, h), np.arange(y_min, y_max, h))"
   ]
  },
  {
   "cell_type": "code",
   "execution_count": 46,
   "metadata": {
    "collapsed": true
   },
   "outputs": [],
   "source": [
    "xx, yy = np.meshgrid(np.arange(x_min, x_max, h),\n",
    "                     np.arange(y_min, y_max, h))"
   ]
  },
  {
   "cell_type": "code",
   "execution_count": 47,
   "metadata": {},
   "outputs": [
    {
     "data": {
      "text/plain": [
       "array([[ 0.1 ,  0.12,  0.14, ...,  7.84,  7.86,  7.88],\n",
       "       [ 0.1 ,  0.12,  0.14, ...,  7.84,  7.86,  7.88],\n",
       "       [ 0.1 ,  0.12,  0.14, ...,  7.84,  7.86,  7.88],\n",
       "       ..., \n",
       "       [ 0.1 ,  0.12,  0.14, ...,  7.84,  7.86,  7.88],\n",
       "       [ 0.1 ,  0.12,  0.14, ...,  7.84,  7.86,  7.88],\n",
       "       [ 0.1 ,  0.12,  0.14, ...,  7.84,  7.86,  7.88]])"
      ]
     },
     "execution_count": 47,
     "metadata": {},
     "output_type": "execute_result"
    }
   ],
   "source": [
    "xx"
   ]
  },
  {
   "cell_type": "code",
   "execution_count": 48,
   "metadata": {},
   "outputs": [
    {
     "data": {
      "text/plain": [
       "array([[ 0.  ,  0.  ,  0.  , ...,  0.  ,  0.  ,  0.  ],\n",
       "       [ 0.02,  0.02,  0.02, ...,  0.02,  0.02,  0.02],\n",
       "       [ 0.04,  0.04,  0.04, ...,  0.04,  0.04,  0.04],\n",
       "       ..., \n",
       "       [ 2.94,  2.94,  2.94, ...,  2.94,  2.94,  2.94],\n",
       "       [ 2.96,  2.96,  2.96, ...,  2.96,  2.96,  2.96],\n",
       "       [ 2.98,  2.98,  2.98, ...,  2.98,  2.98,  2.98]])"
      ]
     },
     "execution_count": 48,
     "metadata": {},
     "output_type": "execute_result"
    }
   ],
   "source": [
    "yy"
   ]
  },
  {
   "cell_type": "code",
   "execution_count": 49,
   "metadata": {},
   "outputs": [
    {
     "data": {
      "text/plain": [
       "array([ 0.1 ,  0.12,  0.14, ...,  7.84,  7.86,  7.88])"
      ]
     },
     "execution_count": 49,
     "metadata": {},
     "output_type": "execute_result"
    }
   ],
   "source": [
    "xx.ravel()"
   ]
  },
  {
   "cell_type": "code",
   "execution_count": 50,
   "metadata": {
    "collapsed": true
   },
   "outputs": [],
   "source": [
    "xx.ravel?"
   ]
  },
  {
   "cell_type": "raw",
   "metadata": {},
   "source": [
    "ocstring:\n",
    "a.ravel([order])\n",
    "\n",
    "Return a flattened array.\n",
    "\n",
    "Refer to `numpy.ravel` for full documentation.\n",
    "\n",
    "See Also\n",
    "--------\n",
    "numpy.ravel : equivalent function\n",
    "\n",
    "ndarray.flat : a flat iterator on the array.\n",
    "Type:      builtin_function_or_method"
   ]
  },
  {
   "cell_type": "code",
   "execution_count": 51,
   "metadata": {},
   "outputs": [
    {
     "data": {
      "text/plain": [
       "array([ 0.  ,  0.  ,  0.  , ...,  2.98,  2.98,  2.98])"
      ]
     },
     "execution_count": 51,
     "metadata": {},
     "output_type": "execute_result"
    }
   ],
   "source": [
    "yy.ravel()"
   ]
  },
  {
   "cell_type": "code",
   "execution_count": 52,
   "metadata": {},
   "outputs": [
    {
     "data": {
      "text/plain": [
       "array([[ 0.1 ,  0.  ],\n",
       "       [ 0.12,  0.  ],\n",
       "       [ 0.14,  0.  ],\n",
       "       ..., \n",
       "       [ 7.84,  2.98],\n",
       "       [ 7.86,  2.98],\n",
       "       [ 7.88,  2.98]])"
      ]
     },
     "execution_count": 52,
     "metadata": {},
     "output_type": "execute_result"
    }
   ],
   "source": [
    "np.c_[xx.ravel(), yy.ravel()]"
   ]
  },
  {
   "cell_type": "code",
   "execution_count": 53,
   "metadata": {},
   "outputs": [],
   "source": [
    "np.c_?"
   ]
  },
  {
   "cell_type": "raw",
   "metadata": {},
   "source": [
    "Type:        CClass\n",
    "String form: <numpy.lib.index_tricks.CClass object at 0x0000014B3406B358>\n",
    "Length:      0\n",
    "File:        c:\\anaconda3\\lib\\site-packages\\numpy\\lib\\index_tricks.py\n",
    "Docstring:  \n",
    "Translates slice objects to concatenation along the second axis.\n",
    "\n",
    "This is short-hand for ``np.r_['-1,2,0', index expression]``, which is\n",
    "useful because of its common occurrence. In particular, arrays will be\n",
    "stacked along their last axis after being upgraded to at least 2-D with\n",
    "1's post-pended to the shape (column vectors made out of 1-D arrays).\n",
    "\n",
    "For detailed documentation, see `r_`.\n",
    "\n",
    "Examples\n",
    "--------\n",
    ">>> np.c_[np.array([[1,2,3]]), 0, 0, np.array([[4,5,6]])]\n",
    "array([[1, 2, 3, 0, 0, 4, 5, 6]])"
   ]
  },
  {
   "cell_type": "code",
   "execution_count": 54,
   "metadata": {
    "scrolled": true
   },
   "outputs": [
    {
     "data": {
      "text/html": [
       "<div>\n",
       "<style>\n",
       "    .dataframe thead tr:only-child th {\n",
       "        text-align: right;\n",
       "    }\n",
       "\n",
       "    .dataframe thead th {\n",
       "        text-align: left;\n",
       "    }\n",
       "\n",
       "    .dataframe tbody tr th {\n",
       "        vertical-align: top;\n",
       "    }\n",
       "</style>\n",
       "<table border=\"1\" class=\"dataframe\">\n",
       "  <thead>\n",
       "    <tr style=\"text-align: right;\">\n",
       "      <th></th>\n",
       "      <th>0</th>\n",
       "      <th>1</th>\n",
       "    </tr>\n",
       "  </thead>\n",
       "  <tbody>\n",
       "    <tr>\n",
       "      <th>0</th>\n",
       "      <td>0.10</td>\n",
       "      <td>0.00</td>\n",
       "    </tr>\n",
       "    <tr>\n",
       "      <th>1</th>\n",
       "      <td>0.12</td>\n",
       "      <td>0.00</td>\n",
       "    </tr>\n",
       "    <tr>\n",
       "      <th>2</th>\n",
       "      <td>0.14</td>\n",
       "      <td>0.00</td>\n",
       "    </tr>\n",
       "    <tr>\n",
       "      <th>3</th>\n",
       "      <td>0.16</td>\n",
       "      <td>0.00</td>\n",
       "    </tr>\n",
       "    <tr>\n",
       "      <th>4</th>\n",
       "      <td>0.18</td>\n",
       "      <td>0.00</td>\n",
       "    </tr>\n",
       "    <tr>\n",
       "      <th>5</th>\n",
       "      <td>0.20</td>\n",
       "      <td>0.00</td>\n",
       "    </tr>\n",
       "    <tr>\n",
       "      <th>6</th>\n",
       "      <td>0.22</td>\n",
       "      <td>0.00</td>\n",
       "    </tr>\n",
       "    <tr>\n",
       "      <th>7</th>\n",
       "      <td>0.24</td>\n",
       "      <td>0.00</td>\n",
       "    </tr>\n",
       "    <tr>\n",
       "      <th>8</th>\n",
       "      <td>0.26</td>\n",
       "      <td>0.00</td>\n",
       "    </tr>\n",
       "    <tr>\n",
       "      <th>9</th>\n",
       "      <td>0.28</td>\n",
       "      <td>0.00</td>\n",
       "    </tr>\n",
       "    <tr>\n",
       "      <th>10</th>\n",
       "      <td>0.30</td>\n",
       "      <td>0.00</td>\n",
       "    </tr>\n",
       "    <tr>\n",
       "      <th>11</th>\n",
       "      <td>0.32</td>\n",
       "      <td>0.00</td>\n",
       "    </tr>\n",
       "    <tr>\n",
       "      <th>12</th>\n",
       "      <td>0.34</td>\n",
       "      <td>0.00</td>\n",
       "    </tr>\n",
       "    <tr>\n",
       "      <th>13</th>\n",
       "      <td>0.36</td>\n",
       "      <td>0.00</td>\n",
       "    </tr>\n",
       "    <tr>\n",
       "      <th>14</th>\n",
       "      <td>0.38</td>\n",
       "      <td>0.00</td>\n",
       "    </tr>\n",
       "    <tr>\n",
       "      <th>15</th>\n",
       "      <td>0.40</td>\n",
       "      <td>0.00</td>\n",
       "    </tr>\n",
       "    <tr>\n",
       "      <th>16</th>\n",
       "      <td>0.42</td>\n",
       "      <td>0.00</td>\n",
       "    </tr>\n",
       "    <tr>\n",
       "      <th>17</th>\n",
       "      <td>0.44</td>\n",
       "      <td>0.00</td>\n",
       "    </tr>\n",
       "    <tr>\n",
       "      <th>18</th>\n",
       "      <td>0.46</td>\n",
       "      <td>0.00</td>\n",
       "    </tr>\n",
       "    <tr>\n",
       "      <th>19</th>\n",
       "      <td>0.48</td>\n",
       "      <td>0.00</td>\n",
       "    </tr>\n",
       "    <tr>\n",
       "      <th>20</th>\n",
       "      <td>0.50</td>\n",
       "      <td>0.00</td>\n",
       "    </tr>\n",
       "    <tr>\n",
       "      <th>21</th>\n",
       "      <td>0.52</td>\n",
       "      <td>0.00</td>\n",
       "    </tr>\n",
       "    <tr>\n",
       "      <th>22</th>\n",
       "      <td>0.54</td>\n",
       "      <td>0.00</td>\n",
       "    </tr>\n",
       "    <tr>\n",
       "      <th>23</th>\n",
       "      <td>0.56</td>\n",
       "      <td>0.00</td>\n",
       "    </tr>\n",
       "    <tr>\n",
       "      <th>24</th>\n",
       "      <td>0.58</td>\n",
       "      <td>0.00</td>\n",
       "    </tr>\n",
       "    <tr>\n",
       "      <th>25</th>\n",
       "      <td>0.60</td>\n",
       "      <td>0.00</td>\n",
       "    </tr>\n",
       "    <tr>\n",
       "      <th>26</th>\n",
       "      <td>0.62</td>\n",
       "      <td>0.00</td>\n",
       "    </tr>\n",
       "    <tr>\n",
       "      <th>27</th>\n",
       "      <td>0.64</td>\n",
       "      <td>0.00</td>\n",
       "    </tr>\n",
       "    <tr>\n",
       "      <th>28</th>\n",
       "      <td>0.66</td>\n",
       "      <td>0.00</td>\n",
       "    </tr>\n",
       "    <tr>\n",
       "      <th>29</th>\n",
       "      <td>0.68</td>\n",
       "      <td>0.00</td>\n",
       "    </tr>\n",
       "    <tr>\n",
       "      <th>...</th>\n",
       "      <td>...</td>\n",
       "      <td>...</td>\n",
       "    </tr>\n",
       "    <tr>\n",
       "      <th>58470</th>\n",
       "      <td>7.30</td>\n",
       "      <td>2.98</td>\n",
       "    </tr>\n",
       "    <tr>\n",
       "      <th>58471</th>\n",
       "      <td>7.32</td>\n",
       "      <td>2.98</td>\n",
       "    </tr>\n",
       "    <tr>\n",
       "      <th>58472</th>\n",
       "      <td>7.34</td>\n",
       "      <td>2.98</td>\n",
       "    </tr>\n",
       "    <tr>\n",
       "      <th>58473</th>\n",
       "      <td>7.36</td>\n",
       "      <td>2.98</td>\n",
       "    </tr>\n",
       "    <tr>\n",
       "      <th>58474</th>\n",
       "      <td>7.38</td>\n",
       "      <td>2.98</td>\n",
       "    </tr>\n",
       "    <tr>\n",
       "      <th>58475</th>\n",
       "      <td>7.40</td>\n",
       "      <td>2.98</td>\n",
       "    </tr>\n",
       "    <tr>\n",
       "      <th>58476</th>\n",
       "      <td>7.42</td>\n",
       "      <td>2.98</td>\n",
       "    </tr>\n",
       "    <tr>\n",
       "      <th>58477</th>\n",
       "      <td>7.44</td>\n",
       "      <td>2.98</td>\n",
       "    </tr>\n",
       "    <tr>\n",
       "      <th>58478</th>\n",
       "      <td>7.46</td>\n",
       "      <td>2.98</td>\n",
       "    </tr>\n",
       "    <tr>\n",
       "      <th>58479</th>\n",
       "      <td>7.48</td>\n",
       "      <td>2.98</td>\n",
       "    </tr>\n",
       "    <tr>\n",
       "      <th>58480</th>\n",
       "      <td>7.50</td>\n",
       "      <td>2.98</td>\n",
       "    </tr>\n",
       "    <tr>\n",
       "      <th>58481</th>\n",
       "      <td>7.52</td>\n",
       "      <td>2.98</td>\n",
       "    </tr>\n",
       "    <tr>\n",
       "      <th>58482</th>\n",
       "      <td>7.54</td>\n",
       "      <td>2.98</td>\n",
       "    </tr>\n",
       "    <tr>\n",
       "      <th>58483</th>\n",
       "      <td>7.56</td>\n",
       "      <td>2.98</td>\n",
       "    </tr>\n",
       "    <tr>\n",
       "      <th>58484</th>\n",
       "      <td>7.58</td>\n",
       "      <td>2.98</td>\n",
       "    </tr>\n",
       "    <tr>\n",
       "      <th>58485</th>\n",
       "      <td>7.60</td>\n",
       "      <td>2.98</td>\n",
       "    </tr>\n",
       "    <tr>\n",
       "      <th>58486</th>\n",
       "      <td>7.62</td>\n",
       "      <td>2.98</td>\n",
       "    </tr>\n",
       "    <tr>\n",
       "      <th>58487</th>\n",
       "      <td>7.64</td>\n",
       "      <td>2.98</td>\n",
       "    </tr>\n",
       "    <tr>\n",
       "      <th>58488</th>\n",
       "      <td>7.66</td>\n",
       "      <td>2.98</td>\n",
       "    </tr>\n",
       "    <tr>\n",
       "      <th>58489</th>\n",
       "      <td>7.68</td>\n",
       "      <td>2.98</td>\n",
       "    </tr>\n",
       "    <tr>\n",
       "      <th>58490</th>\n",
       "      <td>7.70</td>\n",
       "      <td>2.98</td>\n",
       "    </tr>\n",
       "    <tr>\n",
       "      <th>58491</th>\n",
       "      <td>7.72</td>\n",
       "      <td>2.98</td>\n",
       "    </tr>\n",
       "    <tr>\n",
       "      <th>58492</th>\n",
       "      <td>7.74</td>\n",
       "      <td>2.98</td>\n",
       "    </tr>\n",
       "    <tr>\n",
       "      <th>58493</th>\n",
       "      <td>7.76</td>\n",
       "      <td>2.98</td>\n",
       "    </tr>\n",
       "    <tr>\n",
       "      <th>58494</th>\n",
       "      <td>7.78</td>\n",
       "      <td>2.98</td>\n",
       "    </tr>\n",
       "    <tr>\n",
       "      <th>58495</th>\n",
       "      <td>7.80</td>\n",
       "      <td>2.98</td>\n",
       "    </tr>\n",
       "    <tr>\n",
       "      <th>58496</th>\n",
       "      <td>7.82</td>\n",
       "      <td>2.98</td>\n",
       "    </tr>\n",
       "    <tr>\n",
       "      <th>58497</th>\n",
       "      <td>7.84</td>\n",
       "      <td>2.98</td>\n",
       "    </tr>\n",
       "    <tr>\n",
       "      <th>58498</th>\n",
       "      <td>7.86</td>\n",
       "      <td>2.98</td>\n",
       "    </tr>\n",
       "    <tr>\n",
       "      <th>58499</th>\n",
       "      <td>7.88</td>\n",
       "      <td>2.98</td>\n",
       "    </tr>\n",
       "  </tbody>\n",
       "</table>\n",
       "<p>58500 rows × 2 columns</p>\n",
       "</div>"
      ],
      "text/plain": [
       "          0     1\n",
       "0      0.10  0.00\n",
       "1      0.12  0.00\n",
       "2      0.14  0.00\n",
       "3      0.16  0.00\n",
       "4      0.18  0.00\n",
       "5      0.20  0.00\n",
       "6      0.22  0.00\n",
       "7      0.24  0.00\n",
       "8      0.26  0.00\n",
       "9      0.28  0.00\n",
       "10     0.30  0.00\n",
       "11     0.32  0.00\n",
       "12     0.34  0.00\n",
       "13     0.36  0.00\n",
       "14     0.38  0.00\n",
       "15     0.40  0.00\n",
       "16     0.42  0.00\n",
       "17     0.44  0.00\n",
       "18     0.46  0.00\n",
       "19     0.48  0.00\n",
       "20     0.50  0.00\n",
       "21     0.52  0.00\n",
       "22     0.54  0.00\n",
       "23     0.56  0.00\n",
       "24     0.58  0.00\n",
       "25     0.60  0.00\n",
       "26     0.62  0.00\n",
       "27     0.64  0.00\n",
       "28     0.66  0.00\n",
       "29     0.68  0.00\n",
       "...     ...   ...\n",
       "58470  7.30  2.98\n",
       "58471  7.32  2.98\n",
       "58472  7.34  2.98\n",
       "58473  7.36  2.98\n",
       "58474  7.38  2.98\n",
       "58475  7.40  2.98\n",
       "58476  7.42  2.98\n",
       "58477  7.44  2.98\n",
       "58478  7.46  2.98\n",
       "58479  7.48  2.98\n",
       "58480  7.50  2.98\n",
       "58481  7.52  2.98\n",
       "58482  7.54  2.98\n",
       "58483  7.56  2.98\n",
       "58484  7.58  2.98\n",
       "58485  7.60  2.98\n",
       "58486  7.62  2.98\n",
       "58487  7.64  2.98\n",
       "58488  7.66  2.98\n",
       "58489  7.68  2.98\n",
       "58490  7.70  2.98\n",
       "58491  7.72  2.98\n",
       "58492  7.74  2.98\n",
       "58493  7.76  2.98\n",
       "58494  7.78  2.98\n",
       "58495  7.80  2.98\n",
       "58496  7.82  2.98\n",
       "58497  7.84  2.98\n",
       "58498  7.86  2.98\n",
       "58499  7.88  2.98\n",
       "\n",
       "[58500 rows x 2 columns]"
      ]
     },
     "execution_count": 54,
     "metadata": {},
     "output_type": "execute_result"
    }
   ],
   "source": [
    "pd.DataFrame(np.c_[xx.ravel(), yy.ravel()])"
   ]
  },
  {
   "cell_type": "code",
   "execution_count": 55,
   "metadata": {
    "collapsed": true
   },
   "outputs": [],
   "source": [
    "z = clf.predict(np.c_[xx.ravel(), yy.ravel()])"
   ]
  },
  {
   "cell_type": "code",
   "execution_count": 56,
   "metadata": {},
   "outputs": [
    {
     "data": {
      "text/plain": [
       "array([0, 0, 0, ..., 2, 2, 2], dtype=int64)"
      ]
     },
     "execution_count": 56,
     "metadata": {},
     "output_type": "execute_result"
    }
   ],
   "source": [
    "z"
   ]
  },
  {
   "cell_type": "code",
   "execution_count": 57,
   "metadata": {},
   "outputs": [
    {
     "data": {
      "text/plain": [
       "(150, 390)"
      ]
     },
     "execution_count": 57,
     "metadata": {},
     "output_type": "execute_result"
    }
   ],
   "source": [
    "xx.shape"
   ]
  },
  {
   "cell_type": "code",
   "execution_count": 58,
   "metadata": {},
   "outputs": [
    {
     "data": {
      "text/plain": [
       "(58500,)"
      ]
     },
     "execution_count": 58,
     "metadata": {},
     "output_type": "execute_result"
    }
   ],
   "source": [
    "z.shape"
   ]
  },
  {
   "cell_type": "code",
   "execution_count": 59,
   "metadata": {
    "collapsed": true
   },
   "outputs": [],
   "source": [
    "z = z.reshape(xx.shape)"
   ]
  },
  {
   "cell_type": "code",
   "execution_count": 60,
   "metadata": {},
   "outputs": [
    {
     "data": {
      "text/plain": [
       "(150, 390)"
      ]
     },
     "execution_count": 60,
     "metadata": {},
     "output_type": "execute_result"
    }
   ],
   "source": [
    "z.shape"
   ]
  },
  {
   "cell_type": "code",
   "execution_count": 61,
   "metadata": {
    "collapsed": true
   },
   "outputs": [],
   "source": [
    "plt.contourf?"
   ]
  },
  {
   "cell_type": "raw",
   "metadata": {},
   "source": [
    "Signature: plt.contourf(*args, **kwargs)\n",
    "Docstring:\n",
    "Plot contours.\n",
    "\n",
    ":func:`~matplotlib.pyplot.contour` and\n",
    ":func:`~matplotlib.pyplot.contourf` draw contour lines and\n",
    "filled contours, respectively.  Except as noted, function\n",
    "signatures and return values are the same for both versions."
   ]
  },
  {
   "cell_type": "markdown",
   "metadata": {},
   "source": [
    "[matplotlib documentation](https://matplotlib.org/api/_as_gen/matplotlib.pyplot.contourf.html#matplotlib.pyplot.contourf)"
   ]
  },
  {
   "cell_type": "code",
   "execution_count": 62,
   "metadata": {},
   "outputs": [
    {
     "data": {
      "image/png": "[encoded data removed]",
      "text/plain": [
       "<matplotlib.figure.Figure at 0x1d69032e710>"
      ]
     },
     "metadata": {},
     "output_type": "display_data"
    }
   ],
   "source": [
    "fig = plt.figure(figsize=(16,10))\n",
    "ax = plt.contourf(xx, yy, z, cmap = 'afmhot', alpha=0.3);"
   ]
  },
  {
   "cell_type": "code",
   "execution_count": 63,
   "metadata": {},
   "outputs": [
    {
     "data": {
      "image/png": "[encoded data removed]",
      "text/plain": [
       "<matplotlib.figure.Figure at 0x1d69032e208>"
      ]
     },
     "metadata": {},
     "output_type": "display_data"
    }
   ],
   "source": [
    "fig = plt.figure(figsize=(16,10))\n",
    "plt.scatter(X.values[:, 0], X.values[:, 1], c=y, s=80, \n",
    "            alpha=0.9, edgecolors='g');"
   ]
  },
  {
   "cell_type": "code",
   "execution_count": 64,
   "metadata": {},
   "outputs": [
    {
     "data": {
      "image/png": "[encoded data removed]",
      "text/plain": [
       "<matplotlib.figure.Figure at 0x1d6917a7eb8>"
      ]
     },
     "metadata": {},
     "output_type": "display_data"
    }
   ],
   "source": [
    "fig = plt.figure(figsize=(16,10))\n",
    "ax = plt.contourf(xx, yy, z, cmap = 'afmhot', alpha=0.3);\n",
    "plt.scatter(X.values[:, 0], X.values[:, 1], c=y, s=80, \n",
    "            alpha=0.9, edgecolors='g');"
   ]
  },
  {
   "cell_type": "markdown",
   "metadata": {},
   "source": [
    "***"
   ]
  }
 ],
 "metadata": {
  "kernelspec": {
   "display_name": "Python [default]",
   "language": "python",
   "name": "python3"
  },
  "language_info": {
   "codemirror_mode": {
    "name": "ipython",
    "version": 3
   },
   "file_extension": ".py",
   "mimetype": "text/x-python",
   "name": "python",
   "nbconvert_exporter": "python",
   "pygments_lexer": "ipython3",
   "version": "3.5.3"
  }
 },
 "nbformat": 4,
 "nbformat_minor": 2
}
